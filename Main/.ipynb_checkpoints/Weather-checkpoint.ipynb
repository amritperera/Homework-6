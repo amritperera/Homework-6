{
 "cells": [
  {
   "cell_type": "code",
   "execution_count": 27,
   "metadata": {},
   "outputs": [],
   "source": [
    "# Dependencies and Setup\n",
    "import matplotlib.pyplot as plt\n",
    "import pandas as pd\n",
    "import numpy as np\n",
    "import requests\n",
    "import time\n",
    "import json\n",
    "\n",
    "# Import API key\n",
    "from api_keys import api_key\n",
    "\n",
    "# Incorporated citipy to determine city based on latitude and longitude\n",
    "from citipy import citipy\n",
    "\n",
    "# Output File (CSV)\n",
    "output_data_file = \"output_data/cities.csv\"\n",
    "\n",
    "# Range of latitudes and longitudes\n",
    "lat_range = (-90, 90)\n",
    "lng_range = (-180, 180)"
   ]
  },
  {
   "cell_type": "code",
   "execution_count": 28,
   "metadata": {},
   "outputs": [
    {
     "data": {
      "text/plain": [
       "610"
      ]
     },
     "execution_count": 28,
     "metadata": {},
     "output_type": "execute_result"
    }
   ],
   "source": [
    "# List for holding lat_lngs and cities\n",
    "lat_lngs = []\n",
    "cities = []\n",
    "\n",
    "# Create a set of random lat and lng combinations\n",
    "lats = np.random.uniform(low=-90.000, high=90.000, size=1500)\n",
    "lngs = np.random.uniform(low=-180.000, high=180.000, size=1500)\n",
    "lat_lngs = zip(lats, lngs)\n",
    "\n",
    "# Identify nearest city for each lat, lng combination\n",
    "for lat_lng in lat_lngs:\n",
    "    city = citipy.nearest_city(lat_lng[0], lat_lng[1]).city_name\n",
    "    \n",
    "    # If the city is unique, then add it to a our cities list\n",
    "    if city not in cities:\n",
    "        cities.append(city)\n",
    "\n",
    "# Print the city count to confirm sufficient count\n",
    "len(cities)"
   ]
  },
  {
   "cell_type": "code",
   "execution_count": 29,
   "metadata": {},
   "outputs": [],
   "source": [
    "## API call: \n",
    "## api.openweathermap.org/data/2.5/weather?q={city name}\n",
    "## api.openweathermap.org/data/2.5/weather?q={city name},{country code}\n"
   ]
  },
  {
   "cell_type": "code",
   "execution_count": 80,
   "metadata": {},
   "outputs": [
    {
     "name": "stdout",
     "output_type": "stream",
     "text": [
      "Beginning Data Retrieval\n",
      "-----------------------------\n",
      "City not found. Skipping...\n",
      "Processing Record 1 of Set 1 | oranjemund\n",
      "Processing Record 2 of Set 1 | georgetown\n",
      "-----------------------------\n",
      "Data Retrieval Complete\n",
      "-----------------------------\n"
     ]
    }
   ],
   "source": [
    "print(\"Beginning Data Retrieval\")\n",
    "print(\"-----------------------------\")\n",
    "cities_df = []\n",
    "record_count=1\n",
    "set_count=1\n",
    "for x in cities[0:3]:\n",
    "    response = requests.get(\"http://api.openweathermap.org/data/2.5/weather?\", params=dict(q=x, units=\"imperial\", APPID=api_key))\n",
    "    if response.status_code != 200:\n",
    "        print(\"City not found. Skipping...\")\n",
    "    else:\n",
    "        response = requests.get(\"http://api.openweathermap.org/data/2.5/weather?\", params=dict(q=x, units=\"imperial\", APPID=api_key)).json()\n",
    "        print(f\"Processing Record {record_count} of Set {set_count} | {x}\")\n",
    "        cities_df.append(response)\n",
    "        record_count += 1\n",
    "        if record_count == 51:\n",
    "            record_count = 1\n",
    "            set_count += 1\n",
    "            \n",
    "print(\"-----------------------------\")\n",
    "print(\"Data Retrieval Complete\")\n",
    "print(\"-----------------------------\")"
   ]
  },
  {
   "cell_type": "code",
   "execution_count": 125,
   "metadata": {},
   "outputs": [
    {
     "data": {
      "text/html": [
       "<div>\n",
       "<style scoped>\n",
       "    .dataframe tbody tr th:only-of-type {\n",
       "        vertical-align: middle;\n",
       "    }\n",
       "\n",
       "    .dataframe tbody tr th {\n",
       "        vertical-align: top;\n",
       "    }\n",
       "\n",
       "    .dataframe thead th {\n",
       "        text-align: right;\n",
       "    }\n",
       "</style>\n",
       "<table border=\"1\" class=\"dataframe\">\n",
       "  <thead>\n",
       "    <tr style=\"text-align: right;\">\n",
       "      <th></th>\n",
       "      <th>base</th>\n",
       "      <th>clouds</th>\n",
       "      <th>cod</th>\n",
       "      <th>coord</th>\n",
       "      <th>dt</th>\n",
       "      <th>id</th>\n",
       "      <th>main</th>\n",
       "      <th>name</th>\n",
       "      <th>sys</th>\n",
       "      <th>visibility</th>\n",
       "      <th>weather</th>\n",
       "      <th>wind</th>\n",
       "    </tr>\n",
       "  </thead>\n",
       "  <tbody>\n",
       "    <tr>\n",
       "      <th>0</th>\n",
       "      <td>stations</td>\n",
       "      <td>{'all': 68}</td>\n",
       "      <td>200</td>\n",
       "      <td>{'lon': 16.43, 'lat': -28.55}</td>\n",
       "      <td>1545184628</td>\n",
       "      <td>3354071</td>\n",
       "      <td>{'temp': 61.57, 'pressure': 1028.28, 'humidity...</td>\n",
       "      <td>Oranjemund</td>\n",
       "      <td>{'message': 0.0032, 'country': 'ZA', 'sunrise'...</td>\n",
       "      <td>NaN</td>\n",
       "      <td>[{'id': 803, 'main': 'Clouds', 'description': ...</td>\n",
       "      <td>{'speed': 0.58, 'deg': 353.501}</td>\n",
       "    </tr>\n",
       "    <tr>\n",
       "      <th>1</th>\n",
       "      <td>stations</td>\n",
       "      <td>{'all': 75}</td>\n",
       "      <td>200</td>\n",
       "      <td>{'lon': -58.16, 'lat': 6.8}</td>\n",
       "      <td>1545181200</td>\n",
       "      <td>3378644</td>\n",
       "      <td>{'temp': 77.68, 'pressure': 1013, 'humidity': ...</td>\n",
       "      <td>Georgetown</td>\n",
       "      <td>{'type': 1, 'id': 8776, 'message': 0.0037, 'co...</td>\n",
       "      <td>10000.0</td>\n",
       "      <td>[{'id': 803, 'main': 'Clouds', 'description': ...</td>\n",
       "      <td>{'speed': 11.41, 'deg': 50}</td>\n",
       "    </tr>\n",
       "  </tbody>\n",
       "</table>\n",
       "</div>"
      ],
      "text/plain": [
       "       base       clouds  cod                          coord          dt  \\\n",
       "0  stations  {'all': 68}  200  {'lon': 16.43, 'lat': -28.55}  1545184628   \n",
       "1  stations  {'all': 75}  200    {'lon': -58.16, 'lat': 6.8}  1545181200   \n",
       "\n",
       "        id                                               main        name  \\\n",
       "0  3354071  {'temp': 61.57, 'pressure': 1028.28, 'humidity...  Oranjemund   \n",
       "1  3378644  {'temp': 77.68, 'pressure': 1013, 'humidity': ...  Georgetown   \n",
       "\n",
       "                                                 sys  visibility  \\\n",
       "0  {'message': 0.0032, 'country': 'ZA', 'sunrise'...         NaN   \n",
       "1  {'type': 1, 'id': 8776, 'message': 0.0037, 'co...     10000.0   \n",
       "\n",
       "                                             weather  \\\n",
       "0  [{'id': 803, 'main': 'Clouds', 'description': ...   \n",
       "1  [{'id': 803, 'main': 'Clouds', 'description': ...   \n",
       "\n",
       "                              wind  \n",
       "0  {'speed': 0.58, 'deg': 353.501}  \n",
       "1      {'speed': 11.41, 'deg': 50}  "
      ]
     },
     "execution_count": 125,
     "metadata": {},
     "output_type": "execute_result"
    }
   ],
   "source": [
    "DF = pd.DataFrame(cities_df)\n",
    "DF"
   ]
  },
  {
   "cell_type": "code",
   "execution_count": 81,
   "metadata": {},
   "outputs": [],
   "source": [
    "test = json.dumps(cities_df, indent=4, sort_keys=True)"
   ]
  },
  {
   "cell_type": "code",
   "execution_count": 86,
   "metadata": {},
   "outputs": [],
   "source": [
    "test2 = json.loads(test)"
   ]
  },
  {
   "cell_type": "code",
   "execution_count": 123,
   "metadata": {},
   "outputs": [
    {
     "data": {
      "text/plain": [
       "{'base': 'stations',\n",
       " 'clouds': {'all': 68},\n",
       " 'cod': 200,\n",
       " 'coord': {'lat': -28.55, 'lon': 16.43},\n",
       " 'dt': 1545184628,\n",
       " 'id': 3354071,\n",
       " 'main': {'grnd_level': 1028.28,\n",
       "  'humidity': 95,\n",
       "  'pressure': 1028.28,\n",
       "  'sea_level': 1029,\n",
       "  'temp': 61.57,\n",
       "  'temp_max': 61.57,\n",
       "  'temp_min': 61.57},\n",
       " 'name': 'Oranjemund',\n",
       " 'sys': {'country': 'ZA',\n",
       "  'message': 0.0032,\n",
       "  'sunrise': 1545191548,\n",
       "  'sunset': 1545241818},\n",
       " 'weather': [{'description': 'broken clouds',\n",
       "   'icon': '04n',\n",
       "   'id': 803,\n",
       "   'main': 'Clouds'}],\n",
       " 'wind': {'deg': 353.501, 'speed': 0.58}}"
      ]
     },
     "execution_count": 123,
     "metadata": {},
     "output_type": "execute_result"
    }
   ],
   "source": []
  },
  {
   "cell_type": "code",
   "execution_count": 90,
   "metadata": {},
   "outputs": [
    {
     "data": {
      "text/plain": [
       "list"
      ]
     },
     "execution_count": 90,
     "metadata": {},
     "output_type": "execute_result"
    }
   ],
   "source": [
    "## list of dictionaries, list of oe dictionary would just come back as dict\n",
    "type(test2)"
   ]
  },
  {
   "cell_type": "code",
   "execution_count": 91,
   "metadata": {},
   "outputs": [],
   "source": [
    "new_dict = {item['name']:item for item in test2}\n"
   ]
  },
  {
   "cell_type": "code",
   "execution_count": 92,
   "metadata": {},
   "outputs": [
    {
     "data": {
      "text/plain": [
       "dict"
      ]
     },
     "execution_count": 92,
     "metadata": {},
     "output_type": "execute_result"
    }
   ],
   "source": [
    "type(new_dict)"
   ]
  },
  {
   "cell_type": "code",
   "execution_count": 111,
   "metadata": {},
   "outputs": [],
   "source": [
    "test_df= pd.DataFrame.from_dict(new_dict, orient=\"index\",columns=['clouds','main'])\n",
    "\n",
    "# train = pd.DataFrame.from_dict(dict_train, orient='index')\n",
    "# train.reset_index(level=0, inplace=True)"
   ]
  },
  {
   "cell_type": "code",
   "execution_count": 105,
   "metadata": {},
   "outputs": [
    {
     "data": {
      "text/html": [
       "<div>\n",
       "<style scoped>\n",
       "    .dataframe tbody tr th:only-of-type {\n",
       "        vertical-align: middle;\n",
       "    }\n",
       "\n",
       "    .dataframe tbody tr th {\n",
       "        vertical-align: top;\n",
       "    }\n",
       "\n",
       "    .dataframe thead th {\n",
       "        text-align: right;\n",
       "    }\n",
       "</style>\n",
       "<table border=\"1\" class=\"dataframe\">\n",
       "  <thead>\n",
       "    <tr style=\"text-align: right;\">\n",
       "      <th></th>\n",
       "      <th>clouds</th>\n",
       "      <th>main</th>\n",
       "    </tr>\n",
       "  </thead>\n",
       "  <tbody>\n",
       "    <tr>\n",
       "      <th>Georgetown</th>\n",
       "      <td>{'all': 75}</td>\n",
       "      <td>{'humidity': 78, 'pressure': 1013, 'temp': 77....</td>\n",
       "    </tr>\n",
       "    <tr>\n",
       "      <th>Oranjemund</th>\n",
       "      <td>{'all': 68}</td>\n",
       "      <td>{'grnd_level': 1028.28, 'humidity': 95, 'press...</td>\n",
       "    </tr>\n",
       "  </tbody>\n",
       "</table>\n",
       "</div>"
      ],
      "text/plain": [
       "                 clouds                                               main\n",
       "Georgetown  {'all': 75}  {'humidity': 78, 'pressure': 1013, 'temp': 77....\n",
       "Oranjemund  {'all': 68}  {'grnd_level': 1028.28, 'humidity': 95, 'press..."
      ]
     },
     "execution_count": 105,
     "metadata": {},
     "output_type": "execute_result"
    }
   ],
   "source": [
    "##ttemperatures in sub dict MAIN\n",
    "test_df[\"clouds\"][\"all\"]"
   ]
  },
  {
   "cell_type": "code",
   "execution_count": null,
   "metadata": {},
   "outputs": [],
   "source": []
  },
  {
   "cell_type": "code",
   "execution_count": null,
   "metadata": {},
   "outputs": [],
   "source": []
  }
 ],
 "metadata": {
  "kernelspec": {
   "display_name": "Python 3",
   "language": "python",
   "name": "python3"
  },
  "language_info": {
   "codemirror_mode": {
    "name": "ipython",
    "version": 3
   },
   "file_extension": ".py",
   "mimetype": "text/x-python",
   "name": "python",
   "nbconvert_exporter": "python",
   "pygments_lexer": "ipython3",
   "version": "3.7.0"
  }
 },
 "nbformat": 4,
 "nbformat_minor": 2
}
