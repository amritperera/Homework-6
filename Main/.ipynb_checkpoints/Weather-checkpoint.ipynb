{
 "cells": [
  {
   "cell_type": "code",
   "execution_count": 27,
   "metadata": {},
   "outputs": [],
   "source": [
    "# Dependencies and Setup\n",
    "import matplotlib.pyplot as plt\n",
    "import pandas as pd\n",
    "import numpy as np\n",
    "import requests\n",
    "import time\n",
    "import json\n",
    "\n",
    "# Import API key\n",
    "from api_keys import api_key\n",
    "\n",
    "# Incorporated citipy to determine city based on latitude and longitude\n",
    "from citipy import citipy\n",
    "\n",
    "# Output File (CSV)\n",
    "output_data_file = \"output_data/cities.csv\"\n",
    "\n",
    "# Range of latitudes and longitudes\n",
    "lat_range = (-90, 90)\n",
    "lng_range = (-180, 180)"
   ]
  },
  {
   "cell_type": "code",
   "execution_count": 28,
   "metadata": {},
   "outputs": [
    {
     "data": {
      "text/plain": [
       "610"
      ]
     },
     "execution_count": 28,
     "metadata": {},
     "output_type": "execute_result"
    }
   ],
   "source": [
    "# List for holding lat_lngs and cities\n",
    "lat_lngs = []\n",
    "cities = []\n",
    "\n",
    "# Create a set of random lat and lng combinations\n",
    "lats = np.random.uniform(low=-90.000, high=90.000, size=1500)\n",
    "lngs = np.random.uniform(low=-180.000, high=180.000, size=1500)\n",
    "lat_lngs = zip(lats, lngs)\n",
    "\n",
    "# Identify nearest city for each lat, lng combination\n",
    "for lat_lng in lat_lngs:\n",
    "    city = citipy.nearest_city(lat_lng[0], lat_lng[1]).city_name\n",
    "    \n",
    "    # If the city is unique, then add it to a our cities list\n",
    "    if city not in cities:\n",
    "        cities.append(city)\n",
    "\n",
    "# Print the city count to confirm sufficient count\n",
    "len(cities)"
   ]
  },
  {
   "cell_type": "code",
   "execution_count": 29,
   "metadata": {},
   "outputs": [],
   "source": [
    "## API call: \n",
    "## api.openweathermap.org/data/2.5/weather?q={city name}\n",
    "## api.openweathermap.org/data/2.5/weather?q={city name},{country code}\n"
   ]
  },
  {
   "cell_type": "code",
   "execution_count": 44,
   "metadata": {},
   "outputs": [
    {
     "name": "stdout",
     "output_type": "stream",
     "text": [
      "Beginning Data Retrieval\n",
      "-----------------------------\n",
      "City not found. Skipping...\n",
      "Processing Record 1 of Set 1 | oranjemund\n",
      "Processing Record 2 of Set 1 | georgetown\n",
      "Processing Record 3 of Set 1 | nouadhibou\n",
      "Processing Record 4 of Set 1 | nikolskoye\n"
     ]
    }
   ],
   "source": [
    "print(\"Beginning Data Retrieval\")\n",
    "print(\"-----------------------------\")\n",
    "cities_df = []\n",
    "record_count=1\n",
    "set_count=1\n",
    "for x in cities[0:5]:\n",
    "    response = requests.get(\"http://api.openweathermap.org/data/2.5/weather?\", params=dict(q=x, units=\"imperial\", APPID=api_key))\n",
    "    if response.status_code != 200:\n",
    "        print(\"City not found. Skipping...\")\n",
    "    else:\n",
    "        response = requests.get(\"http://api.openweathermap.org/data/2.5/weather?\", params=dict(q=x, units=\"imperial\", APPID=api_key)).json()\n",
    "        print(f\"Processing Record {record_count} of Set {set_count} | {x}\")\n",
    "        cities_df.append(response)\n",
    "        record_count += 1\n",
    "        if record_count == 51:\n",
    "            record_count = 1\n",
    "            set_count += 1\n",
    "            \n"
   ]
  },
  {
   "cell_type": "code",
   "execution_count": 31,
   "metadata": {},
   "outputs": [
    {
     "data": {
      "text/plain": [
       "['asau', 'oranjemund', 'georgetown', 'nouadhibou', 'nikolskoye']"
      ]
     },
     "execution_count": 31,
     "metadata": {},
     "output_type": "execute_result"
    }
   ],
   "source": [
    "cities[0:5]"
   ]
  },
  {
   "cell_type": "code",
   "execution_count": 36,
   "metadata": {},
   "outputs": [],
   "source": [
    "test = json.dumps(cities_df)"
   ]
  },
  {
   "cell_type": "code",
   "execution_count": 39,
   "metadata": {},
   "outputs": [],
   "source": [
    "test2 = json.loads(test)"
   ]
  },
  {
   "cell_type": "code",
   "execution_count": 42,
   "metadata": {},
   "outputs": [
    {
     "data": {
      "text/plain": [
       "[{'coord': {'lon': 16.43, 'lat': -28.55},\n",
       "  'weather': [{'id': 804,\n",
       "    'main': 'Clouds',\n",
       "    'description': 'overcast clouds',\n",
       "    'icon': '04n'}],\n",
       "  'base': 'stations',\n",
       "  'main': {'temp': 61.84,\n",
       "   'pressure': 1028.5,\n",
       "   'humidity': 94,\n",
       "   'temp_min': 61.84,\n",
       "   'temp_max': 61.84,\n",
       "   'sea_level': 1029.27,\n",
       "   'grnd_level': 1028.5},\n",
       "  'wind': {'speed': 0.89, 'deg': 290.512},\n",
       "  'clouds': {'all': 92},\n",
       "  'dt': 1545182390,\n",
       "  'sys': {'message': 0.0037,\n",
       "   'country': 'ZA',\n",
       "   'sunrise': 1545191547,\n",
       "   'sunset': 1545241817},\n",
       "  'id': 3354071,\n",
       "  'name': 'Oranjemund',\n",
       "  'cod': 200},\n",
       " {'coord': {'lon': -58.16, 'lat': 6.8},\n",
       "  'weather': [{'id': 800,\n",
       "    'main': 'Clear',\n",
       "    'description': 'clear sky',\n",
       "    'icon': '01n'}],\n",
       "  'base': 'stations',\n",
       "  'main': {'temp': 78.37,\n",
       "   'pressure': 1014,\n",
       "   'humidity': 94,\n",
       "   'temp_min': 75.2,\n",
       "   'temp_max': 80.6},\n",
       "  'visibility': 10000,\n",
       "  'wind': {'speed': 4.7, 'deg': 60},\n",
       "  'clouds': {'all': 0},\n",
       "  'dt': 1545181200,\n",
       "  'sys': {'type': 1,\n",
       "   'id': 8767,\n",
       "   'message': 0.0033,\n",
       "   'country': 'GY',\n",
       "   'sunrise': 1545213472,\n",
       "   'sunset': 1545255705},\n",
       "  'id': 3378644,\n",
       "  'name': 'Georgetown',\n",
       "  'cod': 200},\n",
       " {'coord': {'lon': -17.03, 'lat': 20.93},\n",
       "  'weather': [{'id': 801,\n",
       "    'main': 'Clouds',\n",
       "    'description': 'few clouds',\n",
       "    'icon': '02n'}],\n",
       "  'base': 'stations',\n",
       "  'main': {'temp': 66.2,\n",
       "   'pressure': 1019,\n",
       "   'humidity': 59,\n",
       "   'temp_min': 66.2,\n",
       "   'temp_max': 66.2},\n",
       "  'visibility': 8000,\n",
       "  'wind': {'speed': 18.34, 'deg': 30},\n",
       "  'clouds': {'all': 20},\n",
       "  'dt': 1545177600,\n",
       "  'sys': {'type': 1,\n",
       "   'id': 2444,\n",
       "   'message': 0.0193,\n",
       "   'country': 'MR',\n",
       "   'sunrise': 1545205159,\n",
       "   'sunset': 1545244269},\n",
       "  'id': 2377457,\n",
       "  'name': 'Nouadhibou',\n",
       "  'cod': 200},\n",
       " {'coord': {'lon': 30.79, 'lat': 59.7},\n",
       "  'weather': [{'id': 600,\n",
       "    'main': 'Snow',\n",
       "    'description': 'light snow',\n",
       "    'icon': '13n'}],\n",
       "  'base': 'stations',\n",
       "  'main': {'temp': 17.6,\n",
       "   'pressure': 1032,\n",
       "   'humidity': 85,\n",
       "   'temp_min': 17.6,\n",
       "   'temp_max': 17.6},\n",
       "  'visibility': 3800,\n",
       "  'wind': {'speed': 6.71, 'deg': 140},\n",
       "  'clouds': {'all': 75},\n",
       "  'dt': 1545181200,\n",
       "  'sys': {'type': 1,\n",
       "   'id': 8926,\n",
       "   'message': 0.0036,\n",
       "   'country': 'RU',\n",
       "   'sunrise': 1545202476,\n",
       "   'sunset': 1545223988},\n",
       "  'id': 546105,\n",
       "  'name': 'Nikolskoye',\n",
       "  'cod': 200}]"
      ]
     },
     "execution_count": 42,
     "metadata": {},
     "output_type": "execute_result"
    }
   ],
   "source": [
    "test2"
   ]
  },
  {
   "cell_type": "code",
   "execution_count": null,
   "metadata": {},
   "outputs": [],
   "source": []
  }
 ],
 "metadata": {
  "kernelspec": {
   "display_name": "Python 3",
   "language": "python",
   "name": "python3"
  },
  "language_info": {
   "codemirror_mode": {
    "name": "ipython",
    "version": 3
   },
   "file_extension": ".py",
   "mimetype": "text/x-python",
   "name": "python",
   "nbconvert_exporter": "python",
   "pygments_lexer": "ipython3",
   "version": "3.7.0"
  }
 },
 "nbformat": 4,
 "nbformat_minor": 2
}
